{
  "nbformat": 4,
  "nbformat_minor": 0,
  "metadata": {
    "colab": {
      "provenance": [],
      "gpuType": "T4",
      "authorship_tag": "ABX9TyP1zI6nwYj9pBD2Dr5Ywhps",
      "include_colab_link": true
    },
    "kernelspec": {
      "name": "python3",
      "display_name": "Python 3"
    },
    "language_info": {
      "name": "python"
    },
    "accelerator": "GPU"
  },
  "cells": [
    {
      "cell_type": "markdown",
      "metadata": {
        "id": "view-in-github",
        "colab_type": "text"
      },
      "source": [
        "<a href=\"https://colab.research.google.com/github/seelokyen/bottledetectionCNNmodel/blob/main/CP2_Train_CNN_Model_v2.ipynb\" target=\"_parent\"><img src=\"https://colab.research.google.com/assets/colab-badge.svg\" alt=\"Open In Colab\"/></a>"
      ]
    },
    {
      "cell_type": "code",
      "execution_count": 1,
      "metadata": {
        "colab": {
          "base_uri": "https://localhost:8080/"
        },
        "id": "o9MCTC99FNFA",
        "outputId": "511b42d5-fbac-450e-da94-70213e6fb3f4"
      },
      "outputs": [
        {
          "output_type": "stream",
          "name": "stdout",
          "text": [
            "Mon May 19 10:27:12 2025       \n",
            "+-----------------------------------------------------------------------------------------+\n",
            "| NVIDIA-SMI 550.54.15              Driver Version: 550.54.15      CUDA Version: 12.4     |\n",
            "|-----------------------------------------+------------------------+----------------------+\n",
            "| GPU  Name                 Persistence-M | Bus-Id          Disp.A | Volatile Uncorr. ECC |\n",
            "| Fan  Temp   Perf          Pwr:Usage/Cap |           Memory-Usage | GPU-Util  Compute M. |\n",
            "|                                         |                        |               MIG M. |\n",
            "|=========================================+========================+======================|\n",
            "|   0  Tesla T4                       Off |   00000000:00:04.0 Off |                    0 |\n",
            "| N/A   37C    P8              9W /   70W |       0MiB /  15360MiB |      0%      Default |\n",
            "|                                         |                        |                  N/A |\n",
            "+-----------------------------------------+------------------------+----------------------+\n",
            "                                                                                         \n",
            "+-----------------------------------------------------------------------------------------+\n",
            "| Processes:                                                                              |\n",
            "|  GPU   GI   CI        PID   Type   Process name                              GPU Memory |\n",
            "|        ID   ID                                                               Usage      |\n",
            "|=========================================================================================|\n",
            "|  No running processes found                                                             |\n",
            "+-----------------------------------------------------------------------------------------+\n"
          ]
        }
      ],
      "source": [
        "!nvidia-smi"
      ]
    },
    {
      "cell_type": "code",
      "source": [
        "from google.colab import drive\n",
        "drive.mount('/content/gdrive')\n",
        "\n",
        "!cp /content/gdrive/MyDrive/bottles_dataset/data.zip /content"
      ],
      "metadata": {
        "colab": {
          "base_uri": "https://localhost:8080/"
        },
        "id": "7SzEUriBFWvB",
        "outputId": "6a75ce56-d9ed-41a5-eeab-980be4ff78da"
      },
      "execution_count": 2,
      "outputs": [
        {
          "output_type": "stream",
          "name": "stdout",
          "text": [
            "Mounted at /content/gdrive\n"
          ]
        }
      ]
    },
    {
      "cell_type": "code",
      "source": [
        "# Unzip images to a custom data folder\n",
        "!unzip -q /content/data.zip -d /content/custom_data"
      ],
      "metadata": {
        "id": "w1QgWh2dFl6D"
      },
      "execution_count": 3,
      "outputs": []
    },
    {
      "cell_type": "code",
      "source": [
        "import os\n",
        "import random\n",
        "import shutil\n",
        "\n",
        "# Set paths\n",
        "image_dir = '/content/custom_data/data.zip/images'\n",
        "label_dir = '/content/custom_data/data.zip/labels'\n",
        "output_base = '/content/sampled_10_percent'\n",
        "\n",
        "# Create output folders\n",
        "os.makedirs(f'{output_base}/images', exist_ok=True)\n",
        "os.makedirs(f'{output_base}/labels', exist_ok=True)\n",
        "\n",
        "# Get image filenames\n",
        "image_files = [f for f in os.listdir(image_dir)]\n",
        "\n",
        "# Select 10%\n",
        "sample_size = int(0.10 * len(image_files))\n",
        "sampled_images = random.sample(image_files, sample_size)\n",
        "\n",
        "# Copy images and labels\n",
        "for img_file in sampled_images:\n",
        "    label_file = os.path.splitext(img_file)[0] + '.txt'\n",
        "    shutil.copy(os.path.join(image_dir, img_file), f'{output_base}/images/{img_file}')\n",
        "    shutil.copy(os.path.join(label_dir, label_file), f'{output_base}/labels/{label_file}')\n",
        "\n",
        "print(f\"Copied {sample_size} images and labels to {output_base}\")\n"
      ],
      "metadata": {
        "colab": {
          "base_uri": "https://localhost:8080/"
        },
        "id": "8_Id54NuFojn",
        "outputId": "afdcd105-3ae5-405e-be2a-8bf1befa2e81"
      },
      "execution_count": 4,
      "outputs": [
        {
          "output_type": "stream",
          "name": "stdout",
          "text": [
            "Copied 1434 images and labels to /content/sampled_10_percent\n"
          ]
        }
      ]
    }
  ]
}